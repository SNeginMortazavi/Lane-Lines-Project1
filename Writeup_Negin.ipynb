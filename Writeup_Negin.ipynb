{
 "cells": [
  {
   "cell_type": "markdown",
   "metadata": {},
   "source": [
    "# **Finding Lane Lines on the Road** \n",
    "\n",
    "## Writeup \n",
    "\n",
    "07/20/2017\n",
    "\n",
    "---\n",
    "The goal of this project is to detectect lane lines in images using Python and OpenCV by doing several different operations and applying them on image and video.\n",
    "\n",
    "\n",
    "[//]: # (Image References)\n",
    "\n",
    "[image1]: ./examples/grayscale.jpg \"Grayscale\"\n",
    "\n",
    "---\n",
    "\n",
    "### Reflection\n",
    "\n",
    "### 1. Describe your pipeline. As part of the description, explain how you modified the draw_lines() function.\n",
    "\n",
    "My pipeline consisted of 8 steps. All required parameters for all these steps stored in \"parameters\" dictionary.\n",
    "\n",
    "* Converting image to grayscale\n",
    "* Applying a Gaussian blur to the image with kernel size of 5\n",
    "* Applying Canny edge detection over the result of step 2, The low threshold and high thresholds for this step are set   to 50 and 150 accordingly.\n",
    "* Masking the image so that only the region of interest is processed: I defined a polygon mask with the following     vertices: [[135, 545], [440, 330],  [535, 330], [885, 545]]\n",
    "* Running the Hough transform to identify lines with the following parametrs:\n",
    "  \"rho\" : 1, \"theta\" : 1, \"threshold\" : 10, \"min_line_length\" : 10, \"max_line_gap\" : 10\n",
    "* Converting those lines into straight lines\n",
    "* Smoothing the result: I applied weighted image function to both raw image and the output of hough transform to    magnify the detected lines. \n",
    "* Plotting the lines on top of the image\n",
    "\n",
    "\n",
    "\n",
    "In order to draw a single line on the left and right lanes, I modified the function of draw-line as following:\n",
    "I first compute the slope of each line from the result of hough function. If the slope was greater than 0.5 it belongs to left line and if it is less than -0.5 it belongs to the right lane. Then from. the package of scipy.optimize I used curve_fit function which uses non-linear least squares to fit a function, equation of a line ($y = mx + b$) , to data. After finding the coefficents of each lane line, m and b, I used two points on each lane to find two points to pass into cv2.line function to draw the detected lane lines on each frame.\n",
    "\n",
    "\n",
    "### 2. Identify potential shortcomings with your current pipeline\n",
    "This pipeline works perfectly on the first two videos (\n",
    "The algorithm has shortcomings when the road gets more and more curvy, when we have shadows of any object on the street, like shadow of trees... It is also sensitive to the chosen of masked region (how to choose the vertices of region) and kernel size (how blury we want). \n",
    "\n",
    "\n",
    "### 3. Suggest possible improvements to your pipeline\n",
    "\n",
    "There are some possible improvement as follow:\n",
    "* It is good to set the parameter more exact for better tunning edge detection and hough transform\n",
    "* Better selection of vertices in region of interest for mask\n",
    "* Also, It would be good to use the information from previous frames\n"
   ]
  },
  {
   "cell_type": "code",
   "execution_count": null,
   "metadata": {
    "collapsed": true
   },
   "outputs": [],
   "source": []
  }
 ],
 "metadata": {
  "kernelspec": {
   "display_name": "Python [conda root]",
   "language": "python",
   "name": "conda-root-py"
  },
  "language_info": {
   "codemirror_mode": {
    "name": "ipython",
    "version": 3
   },
   "file_extension": ".py",
   "mimetype": "text/x-python",
   "name": "python",
   "nbconvert_exporter": "python",
   "pygments_lexer": "ipython3",
   "version": "3.6.1"
  }
 },
 "nbformat": 4,
 "nbformat_minor": 2
}
